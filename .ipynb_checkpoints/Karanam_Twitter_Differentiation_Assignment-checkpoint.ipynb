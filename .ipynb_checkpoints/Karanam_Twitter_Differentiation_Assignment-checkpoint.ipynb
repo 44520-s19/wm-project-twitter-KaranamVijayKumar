{
 "cells": [
  {
   "cell_type": "markdown",
   "metadata": {},
   "source": [
    "## Vijay Kumar Karanam"
   ]
  },
  {
   "cell_type": "markdown",
   "metadata": {},
   "source": [
    "    Twitter accounts chosen for analysis :-\n",
    "    \n",
    "    * Donald Trump (@realDonaldTrump)\n",
    "    * Virat Kohli (@imVkohli)\n",
    "    * Anne Marie (@AnneMarie)"
   ]
  },
  {
   "cell_type": "markdown",
   "metadata": {},
   "source": [
    "## Pickling the data of selected Twitter Accounts"
   ]
  },
  {
   "cell_type": "code",
   "execution_count": 1,
   "metadata": {},
   "outputs": [],
   "source": [
    "# importing tweepy and pickle modules\n",
    "import tweepy\n",
    "import pickle\n",
    "\n",
    "# importing twitter api keys and setting authorization\n",
    "\n",
    "from twitter_key import consumer_key, consumer_secret, access_token, access_secret\n",
    "auth = tweepy.OAuthHandler(consumer_key, consumer_secret)\n",
    "auth.set_access_token(access_token, access_secret)\n",
    "api = tweepy.API(auth)\n",
    "\n",
    "# creating a file called realDonaldTrump.pkl that we will write in binary format\n",
    "# Pickling Account 1 : Donald Trump (@realDonaldTrump)\n",
    "\n",
    "trump_tweets = api.user_timeline('realDonaldTrump')\n",
    "with open('realDonaldTrump.pkl','wb') as f:\n",
    "    pickle.dump(trump_tweets,f)\n",
    "    \n",
    "# creating a file called imVkohli.pkl that we will write in binary format\n",
    "# Pickling Account 2 : Virat Kohli (@imVkohli)\n",
    "\n",
    "kohli_tweets = api.user_timeline('imVkohli')\n",
    "with open('imVkohli.pkl','wb') as f:\n",
    "    pickle.dump(kohli_tweets,f)\n",
    "    \n",
    "# creating a file called AnneMarie.pkl that we will write in binary format\n",
    "# Pickling Account 3 : Anne Marie (@AnneMarie)\n",
    "\n",
    "marie_tweets = api.user_timeline('AnneMarie')\n",
    "with open('AnneMarie.pkl','wb') as f:\n",
    "    pickle.dump(marie_tweets,f)"
   ]
  },
  {
   "cell_type": "markdown",
   "metadata": {},
   "source": [
    "## Loading the Pickled data"
   ]
  },
  {
   "cell_type": "code",
   "execution_count": 2,
   "metadata": {},
   "outputs": [],
   "source": [
    "# loading the pickled Trump tweets\n",
    "\n",
    "with open('realDonaldTrump.pkl','rb') as f:\n",
    "    trump_data = pickle.load(f)\n",
    "\n",
    "# loading the pickled Kohli tweets\n",
    "\n",
    "with open('imVkohli.pkl','rb') as f:\n",
    "    kohli_data = pickle.load(f)\n",
    "\n",
    "# loading the pickled Anne Marie tweets\n",
    "\n",
    "with open('AnneMarie.pkl','rb') as f:\n",
    "    marie_data = pickle.load(f)\n",
    "    \n",
    "# Avoided printing the loaded data here to increase readability of notebook"
   ]
  },
  {
   "cell_type": "markdown",
   "metadata": {},
   "source": [
    "## Lexical Diversity Calculation"
   ]
  },
  {
   "cell_type": "code",
   "execution_count": 3,
   "metadata": {},
   "outputs": [
    {
     "name": "stdout",
     "output_type": "stream",
     "text": [
      "\n",
      "Donald Trump's Lexical Diversity of tweets: \n",
      " [0.8333333333333334, 0.8695652173913043, 0.9130434782608695, 0.85, 1.0, 1.0, 1.0, 0.9130434782608695, 0.9523809523809523, 0.9411764705882353, 1.0, 1.0, 0.9565217391304348, 1.0, 0.9444444444444444, 0.9047619047619048, 1.0, 0.8636363636363636, 1.0, 0.95]\n",
      "\n",
      "Virat Kohli's Lexical Diversity of tweets: \n",
      " [1.0, 0.9523809523809523, 1.0, 0.9545454545454546, 1.0, 1.0, 1.0, 1.0, 1.0, 0.9047619047619048, 1.0, 1.0, 0.875, 1.0, 1.0, 1.0, 0.7619047619047619, 0.9473684210526315, 1.0, 0.9545454545454546]\n",
      "\n",
      "Anne Marie's Lexical Diversity of tweets: \n",
      " [1.0, 0.9166666666666666, 1.0, 1.0, 1.0, 1.0, 1.0, 1.0, 1.0, 1.0, 1.0, 1.0, 1.0, 1.0, 0.9259259259259259, 1.0, 0.8571428571428571, 1.0, 0.9285714285714286, 1.0]\n"
     ]
    }
   ],
   "source": [
    "# A function for computing lexical diversity\n",
    "\n",
    "def lexical_diversity(text):\n",
    "    tokens = text.lower().split()\n",
    "    return len(set(tokens))/len(tokens)\n",
    "\n",
    "# Printing Lexical Diversity of Trump tweets from pickled data\n",
    "\n",
    "trump_diversities = [lexical_diversity(tweet.text) for tweet in trump_data]\n",
    "print(\"\\nDonald Trump's Lexical Diversity of tweets: \\n\",trump_diversities)\n",
    "\n",
    "# Printing Lexical Diversity of Virat Kohli tweets from pickled data\n",
    "\n",
    "kohli_diversities = [lexical_diversity(tweet.text) for tweet in kohli_data]\n",
    "print(\"\\nVirat Kohli's Lexical Diversity of tweets: \\n\",kohli_diversities)\n",
    "\n",
    "# Printing Lexical Diversity of Anne-Marie tweets from pickled data\n",
    "\n",
    "marie_diversities = [lexical_diversity(tweet.text) for tweet in marie_data]\n",
    "print(\"\\nAnne Marie's Lexical Diversity of tweets: \\n\",marie_diversities)\n",
    "\n"
   ]
  },
  {
   "cell_type": "code",
   "execution_count": 4,
   "metadata": {},
   "outputs": [
    {
     "name": "stdout",
     "output_type": "stream",
     "text": [
      "\n",
      "Trump's Lexical diversity avg:  0.9445953691094356\n",
      "Kohli's Lexical diversity avg:  0.9675253474595579\n",
      "Marie's Lexical diversity avg:  0.9814153439153438\n"
     ]
    }
   ],
   "source": [
    "# Function for calculating lexical diversity average\n",
    "\n",
    "def lex_avg(a):\n",
    "    return sum(a)/len(a)\n",
    "\n",
    "# Printing Lexical Diversity Average\n",
    "\n",
    "print(\"\\nTrump's Lexical diversity avg: \",lex_avg(trump_diversities))\n",
    "print(\"Kohli's Lexical diversity avg: \",lex_avg(kohli_diversities))\n",
    "print(\"Marie's Lexical diversity avg: \",lex_avg(marie_diversities))\n"
   ]
  },
  {
   "cell_type": "markdown",
   "metadata": {},
   "source": [
    "## Plotting the Lexical Diversity Average using Matplotlib"
   ]
  },
  {
   "cell_type": "code",
   "execution_count": 6,
   "metadata": {},
   "outputs": [
    {
     "data": {
      "image/png": "[encoded data removed]",
      "text/plain": [
       "<Figure size 432x288 with 1 Axes>"
      ]
     },
     "metadata": {
      "needs_background": "light"
     },
     "output_type": "display_data"
    }
   ],
   "source": [
    "import matplotlib.pyplot as plt\n",
    "import numpy as np\n",
    "objects = ('Trump_diversity','Kohli_diversity', 'Marie_diversity')\n",
    "y_pos = np.arange(len(objects))\n",
    "performance = [lex_avg(trump_diversities), lex_avg(kohli_diversities),lex_avg(marie_diversities)]\n",
    "\n",
    "plt.bar(y_pos, performance, align='center', alpha=0.5)\n",
    "plt.xticks(y_pos, objects)\n",
    "plt.ylabel('Average')\n",
    "plt.title('Lexical Diversity Average ')\n",
    "\n",
    "plt.show()"
   ]
  },
  {
   "cell_type": "markdown",
   "metadata": {},
   "source": [
    "### Conclusions drawn from Lexical Diversity Average bar graph\n",
    "\n",
    "If we see the above bargraph all the three does have similar lexical diversity averages with just a slight difference in points, there isn't really much variation in this category for the three , so did another comparision and results of those are shown below."
   ]
  },
  {
   "cell_type": "markdown",
   "metadata": {},
   "source": [
    "## Retweet Count Calculation"
   ]
  },
  {
   "cell_type": "code",
   "execution_count": 7,
   "metadata": {},
   "outputs": [
    {
     "name": "stdout",
     "output_type": "stream",
     "text": [
      "Retweet Count of Donald Trump: 8064\n",
      "Retweet Count of Virat Kohli: 5324\n",
      "Retweet Count of Anne Marie: 173\n"
     ]
    }
   ],
   "source": [
    "# Calculating retweet count of a particular tweet\n",
    "\n",
    "retweet_trump = trump_tweets[2].retweet_count\n",
    "retweet_kohli = kohli_tweets[2].retweet_count\n",
    "retweet_marie = marie_tweets[2].retweet_count\n",
    "\n",
    "print('Retweet Count of Donald Trump:',retweet_trump)\n",
    "print('Retweet Count of Virat Kohli:', retweet_kohli)\n",
    "print('Retweet Count of Anne Marie:',retweet_marie)"
   ]
  },
  {
   "cell_type": "markdown",
   "metadata": {},
   "source": [
    "## Plotting the Retweet Count using Matplotlib"
   ]
  },
  {
   "cell_type": "code",
   "execution_count": 8,
   "metadata": {},
   "outputs": [
    {
     "data": {
      "image/png": "[encoded data removed]",
      "text/plain": [
       "<Figure size 432x288 with 1 Axes>"
      ]
     },
     "metadata": {
      "needs_background": "light"
     },
     "output_type": "display_data"
    }
   ],
   "source": [
    "import matplotlib.pyplot as plt\n",
    "\n",
    "objects = ('trump_retweets','kohli_retweets','marie_retweets')\n",
    "y_pos = np.arange(len(objects))\n",
    "performance = [retweet_trump, retweet_kohli, retweet_marie]\n",
    "\n",
    "plt.bar(y_pos, performance, align='center', alpha=0.5)\n",
    "plt.xticks(y_pos, objects)\n",
    "plt.ylabel('Number of retweets')\n",
    "plt.title('Retweet Count Comparision ')\n",
    "\n",
    "plt.show()"
   ]
  },
  {
   "cell_type": "markdown",
   "metadata": {},
   "source": [
    "### Conclusions drawn from Retweet Count bar graph\n",
    "\n",
    "If we consider the retweet counts of the selected tweet for the three, Donald Trump is the clear winner and he has got 8000 plus retweets for his tweet where as Anne Marie got just 173 retweets to be precise for her tweet which is the least in this case and Kohli is in the second place with 5000 plus retweets for his tweet."
   ]
  }
 ],
 "metadata": {
  "kernelspec": {
   "display_name": "Python 3",
   "language": "python",
   "name": "python3"
  },
  "language_info": {
   "codemirror_mode": {
    "name": "ipython",
    "version": 3
   },
   "file_extension": ".py",
   "mimetype": "text/x-python",
   "name": "python",
   "nbconvert_exporter": "python",
   "pygments_lexer": "ipython3",
   "version": "3.7.3"
  }
 },
 "nbformat": 4,
 "nbformat_minor": 2
}
